{
  "nbformat": 4,
  "nbformat_minor": 0,
  "metadata": {
    "colab": {
      "provenance": []
    },
    "kernelspec": {
      "name": "python3",
      "display_name": "Python 3"
    },
    "language_info": {
      "name": "python"
    }
  },
  "cells": [
    {
      "cell_type": "markdown",
      "source": [
        "For each cell (or node),\n",
        "\n",
        " A* computes:\n",
        "\n",
        "\n",
        "f(n)=g(n)+h(n)\n",
        "\n",
        "Where:\n",
        "\n",
        "g(n) → Cost from the start node to the current node\n",
        "\n",
        "h(n) → Heuristic estimate of the cost from the current node to the goal (e.g., Euclidean distance)\n",
        "\n",
        "f(n) → Total estimated cost of the path through node n\n",
        "\n",
        "A* always expands the node with the lowest f-value first."
      ],
      "metadata": {
        "id": "4LVO6nRu5oQy"
      }
    },
    {
      "cell_type": "code",
      "execution_count": 13,
      "metadata": {
        "id": "YtkD-DA8h1SG"
      },
      "outputs": [],
      "source": [
        "import math\n",
        "import heapq\n",
        "\n",
        "\n",
        "\n",
        "\n"
      ]
    },
    {
      "cell_type": "code",
      "source": [
        "# Class to store details about each cell in the grid\n",
        "class Node:\n",
        "    def __init__(self):\n",
        "        self.parent_row = 0   # Row index of the parent node\n",
        "        self.parent_col = 0   # Column index of the parent node\n",
        "        self.total_cost = float('inf')  # f = g + h\n",
        "        self.cost_from_start = float('inf')  # g\n",
        "        self.heuristic_cost = 0  # h"
      ],
      "metadata": {
        "id": "KmUOsaIa4yr5"
      },
      "execution_count": 14,
      "outputs": []
    },
    {
      "cell_type": "markdown",
      "source": [
        "## Functions\n"
      ],
      "metadata": {
        "id": "G95Hc1q940be"
      }
    },
    {
      "cell_type": "code",
      "source": [
        "\n",
        "# Check if a cell position is inside the grid\n",
        "def is_inside_grid(row, col, ROWS, COLS):\n",
        "    return (0 <= row < ROWS) and (0 <= col < COLS)\n",
        "\n",
        "\n",
        "\n"
      ],
      "metadata": {
        "id": "gr14AyYz39M9"
      },
      "execution_count": 15,
      "outputs": []
    },
    {
      "cell_type": "code",
      "source": [
        "# Check if a cell is not blocked\n",
        "def is_walkable(grid, row, col):\n",
        "    return grid[row][col] == 0\n"
      ],
      "metadata": {
        "id": "KEPnFjnv4juM"
      },
      "execution_count": 16,
      "outputs": []
    },
    {
      "cell_type": "code",
      "source": [
        "# Check if this cell is the destination\n",
        "def is_goal(row, col, goal):\n",
        "    return row == goal[0] and col == goal[1]\n",
        "\n"
      ],
      "metadata": {
        "id": "Q1DR3OBA4l1M"
      },
      "execution_count": 17,
      "outputs": []
    },
    {
      "cell_type": "code",
      "source": [
        "# Heuristic function (Euclidean distance)\n",
        "def calculate_heuristic(row, col, goal):\n",
        "    return math.sqrt((row - goal[0])**2 + (col - goal[1])**2)\n",
        "\n"
      ],
      "metadata": {
        "id": "MBDhHnm34nad"
      },
      "execution_count": 18,
      "outputs": []
    },
    {
      "cell_type": "code",
      "source": [
        "# Print the final path\n",
        "def show_path(node_info, goal):\n",
        "    print(\"\\nPath found:\")\n",
        "    path = []\n",
        "    row, col = goal\n",
        "\n",
        "    # Move backwards from goal to start using parent links\n",
        "    while not (node_info[row][col].parent_row == row and node_info[row][col].parent_col == col):\n",
        "        path.append((row, col))\n",
        "        temp_row = node_info[row][col].parent_row\n",
        "        temp_col = node_info[row][col].parent_col\n",
        "        row, col = temp_row, temp_col\n",
        "\n",
        "    # Add the start node and reverse to get correct order\n",
        "    path.append((row, col))\n",
        "    path.reverse()\n",
        "\n",
        "    for step in path:\n",
        "        print(\"->\", step, end=\" \")\n",
        "    print(\"\\n\")"
      ],
      "metadata": {
        "id": "V_A25GIY4pQO"
      },
      "execution_count": 19,
      "outputs": []
    },
    {
      "cell_type": "markdown",
      "source": [
        "###  A* Algorithm Steps\n",
        "\n",
        "**1. Initialize**\n",
        "- Put the start node in an open list (priority queue sorted by f).\n",
        "- Mark all other nodes as unvisited.\n",
        "\n",
        "\n",
        "\n",
        "**2. Loop until the goal is found**\n",
        "1. Select the node with the smallest f(n) from the open list.  \n",
        "2. Move it to the closed list (visited).  \n",
        "3. For each of its neighbors:\n",
        "   - If it’s blocked or already visited → skip.  \n",
        "   - Compute new costs:  \n",
        "     ```\n",
        "     g_new = g_current + distance(current, neighbor)\n",
        "     h_new = Euclidean_distance(neighbor, goal)\n",
        "     f_new = g_new + h_new\n",
        "     ```\n",
        "   - If this path is better, update the neighbor’s info and push it into the open list.\n",
        "\n",
        "\n",
        "\n",
        "**3. Goal Found**\n",
        "- Stop when the goal node is reached.  \n",
        "- Reconstruct the path by tracing back the parent nodes.\n",
        "\n",
        "\n",
        "**4. No Path Found**\n",
        "- If the open list is empty and the goal is not found → no valid path exists.\n"
      ],
      "metadata": {
        "id": "rySG5-nr6Emq"
      }
    },
    {
      "cell_type": "code",
      "source": [
        "# ---------------------- A* Algorithm ----------------------\n",
        "\n",
        "def a_star(grid, start, goal):\n",
        "    ROWS = len(grid)\n",
        "    COLS = len(grid[0])\n",
        "\n",
        "    # Check start/goal validity\n",
        "    if not is_inside_grid(start[0], start[1], ROWS, COLS) or not is_inside_grid(goal[0], goal[1], ROWS, COLS):\n",
        "        print(\"Start or goal is outside the grid.\")\n",
        "        return\n",
        "\n",
        "    if not is_walkable(grid, start[0], start[1]) or not is_walkable(grid, goal[0], goal[1]):\n",
        "        print(\"Start or goal is blocked.\")\n",
        "        return\n",
        "\n",
        "    if is_goal(start[0], start[1], goal):\n",
        "        print(\"Already at the goal!\")\n",
        "        return\n",
        "\n",
        "    # Initialize visited matrix\n",
        "    visited = [[False for _ in range(COLS)] for _ in range(ROWS)]\n",
        "    # Initialize node details\n",
        "    node_info = [[Node() for _ in range(COLS)] for _ in range(ROWS)]\n",
        "\n",
        "    # Set up start node\n",
        "    start_row, start_col = start\n",
        "    node_info[start_row][start_col].total_cost = 0.0\n",
        "    node_info[start_row][start_col].cost_from_start = 0.0\n",
        "    node_info[start_row][start_col].heuristic_cost = 0.0\n",
        "    node_info[start_row][start_col].parent_row = start_row\n",
        "    node_info[start_row][start_col].parent_col = start_col\n",
        "\n",
        "    # Open list (priority queue based on total cost f)\n",
        "    open_list = []\n",
        "    heapq.heappush(open_list, (0.0, start_row, start_col))\n",
        "\n",
        "    goal_found = False\n",
        "\n",
        "    # 8 possible directions\n",
        "    moves = [\n",
        "        (0, 1), (0, -1), (1, 0), (-1, 0),  # 4 straight directions\n",
        "        (1, 1), (1, -1), (-1, 1), (-1, -1)  # 4 diagonals\n",
        "    ]\n",
        "\n",
        "    while open_list:\n",
        "        # Get node with smallest f value\n",
        "        _, current_row, current_col = heapq.heappop(open_list)\n",
        "        visited[current_row][current_col] = True\n",
        "\n",
        "        # Explore neighbors\n",
        "        for move in moves:\n",
        "            neighbor_row = current_row + move[0]\n",
        "            neighbor_col = current_col + move[1]\n",
        "\n",
        "            # Skip invalid, blocked, or visited cells\n",
        "            if not is_inside_grid(neighbor_row, neighbor_col, ROWS, COLS):\n",
        "                continue\n",
        "            if not is_walkable(grid, neighbor_row, neighbor_col):\n",
        "                continue\n",
        "            if visited[neighbor_row][neighbor_col]:\n",
        "                continue\n",
        "\n",
        "            # If goal found\n",
        "            if is_goal(neighbor_row, neighbor_col, goal):\n",
        "                node_info[neighbor_row][neighbor_col].parent_row = current_row\n",
        "                node_info[neighbor_row][neighbor_col].parent_col = current_col\n",
        "                print(\"Goal found \")\n",
        "                show_path(node_info, goal)\n",
        "                goal_found = True\n",
        "                return\n",
        "\n",
        "            # Compute costs\n",
        "            new_g = node_info[current_row][current_col].cost_from_start + 1.0\n",
        "            new_h = calculate_heuristic(neighbor_row, neighbor_col, goal)\n",
        "            new_f = new_g + new_h\n",
        "\n",
        "            # If this path is better, update the cell\n",
        "            if node_info[neighbor_row][neighbor_col].total_cost == float('inf') or node_info[neighbor_row][neighbor_col].total_cost > new_f:\n",
        "                heapq.heappush(open_list, (new_f, neighbor_row, neighbor_col))\n",
        "                node_info[neighbor_row][neighbor_col].total_cost = new_f\n",
        "                node_info[neighbor_row][neighbor_col].cost_from_start = new_g\n",
        "                node_info[neighbor_row][neighbor_col].heuristic_cost = new_h\n",
        "                node_info[neighbor_row][neighbor_col].parent_row = current_row\n",
        "                node_info[neighbor_row][neighbor_col].parent_col = current_col\n",
        "\n",
        "    if not goal_found:\n",
        "        print(\"Failed to find a path \")\n",
        "\n"
      ],
      "metadata": {
        "id": "dqRrd-v64Sml"
      },
      "execution_count": 20,
      "outputs": []
    },
    {
      "cell_type": "code",
      "source": [
        "# ---------------------- Main ----------------------\n",
        "\n",
        "def main():\n",
        "    grid = [\n",
        "        [0, 0, 0, 0, 1, 0, 0, 0, 0, 0],\n",
        "        [0, 1, 1, 0, 1, 0, 1, 0, 1, 0],\n",
        "        [0, 1, 0, 0, 0, 1, 0, 1, 0, 1],\n",
        "        [0, 0, 0, 1, 1, 1, 0, 0, 0, 0],\n",
        "        [0, 1, 0, 0, 0, 0, 0, 1, 0, 1],\n",
        "        [0, 1, 0, 1, 1, 0, 1, 0, 1, 0],\n",
        "        [0, 0, 0, 0, 1, 0, 0, 0, 0, 0],\n",
        "    ]\n",
        "\n",
        "    start = [0, 0]\n",
        "    goal = [6, 8]\n",
        "\n",
        "    a_star(grid, start, goal)\n",
        "\n",
        "\n",
        "if __name__ == \"__main__\":\n",
        "    main()\n"
      ],
      "metadata": {
        "colab": {
          "base_uri": "https://localhost:8080/"
        },
        "id": "qySBIbDa4ZTW",
        "outputId": "b484b5c7-10d9-4893-9182-498ea6589cd7"
      },
      "execution_count": 21,
      "outputs": [
        {
          "output_type": "stream",
          "name": "stdout",
          "text": [
            "Goal found \n",
            "\n",
            "Path found:\n",
            "-> (0, 0) -> (0, 1) -> (0, 2) -> (1, 3) -> (2, 4) -> (1, 5) -> (2, 6) -> (3, 7) -> (4, 8) -> (5, 7) -> (6, 8) \n",
            "\n"
          ]
        }
      ]
    }
  ]
}